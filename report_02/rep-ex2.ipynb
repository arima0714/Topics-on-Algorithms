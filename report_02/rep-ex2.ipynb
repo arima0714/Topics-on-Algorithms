{
 "cells": [
  {
   "cell_type": "markdown",
   "metadata": {},
   "source": [
    "# 第二回レポート課題\n",
    "\n",
    "を解くためのノート"
   ]
  },
  {
   "cell_type": "markdown",
   "metadata": {},
   "source": [
    "## 問題1：RSA暗号\n",
    "\n",
    "$e = 911, p = 63331, q = 65353, n = pq = 4138870843$ とする\n",
    "\n",
    "ASCIIコードは7bitで表現可能なので、一つの $m$ (32bit) として下位の 28bit に4文字を左寄せで詰め込んだ整数値を用いることにする。\n",
    "\n",
    "ある文字列をこの方式で暗号化したところ数列 $ [1950507198, 2327932771, 3867273736, 1778638487, 2560135757, 700859399, 3108515537, 2459576784, 248377069]$ を得た。\n",
    "\n",
    "元の文字列を求めよ\n"
   ]
  },
  {
   "cell_type": "code",
   "execution_count": 1,
   "metadata": {},
   "outputs": [
    {
     "data": {
      "text/plain": [
       "4138870843"
      ]
     },
     "execution_count": 1,
     "metadata": {},
     "output_type": "execute_result"
    }
   ],
   "source": [
    "e = 911\n",
    "p = 63331\n",
    "q = 65353\n",
    "p*q"
   ]
  },
  {
   "cell_type": "markdown",
   "metadata": {},
   "source": [
    "## 問題2：モジュラー算法・中国剰余定理\n"
   ]
  },
  {
   "cell_type": "code",
   "execution_count": null,
   "metadata": {},
   "outputs": [],
   "source": []
  }
 ],
 "metadata": {
  "kernelspec": {
   "display_name": "Python 3",
   "language": "python",
   "name": "python3"
  },
  "language_info": {
   "codemirror_mode": {
    "name": "ipython",
    "version": 3
   },
   "file_extension": ".py",
   "mimetype": "text/x-python",
   "name": "python",
   "nbconvert_exporter": "python",
   "pygments_lexer": "ipython3",
   "version": "3.8.6"
  }
 },
 "nbformat": 4,
 "nbformat_minor": 4
}

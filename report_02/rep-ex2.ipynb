{
 "cells": [
  {
   "cell_type": "markdown",
   "metadata": {},
   "source": [
    "# 第二回レポート課題\n",
    "\n",
    "を解くためのノート"
   ]
  },
  {
   "cell_type": "markdown",
   "metadata": {},
   "source": [
    "## 問題1：RSA暗号\n",
    "\n",
    "$e = 911, p = 63331, q = 65353, n = pq = 4138870843$ とする\n",
    "\n",
    "ASCIIコードは7bitで表現可能なので、一つの $m$ (32bit) として下位の 28bit に4文字を左寄せで詰め込んだ整数値を用いることにする。\n",
    "\n",
    "ある文字列をこの方式で暗号化したところ数列 $ [1950507198, 2327932771, 3867273736, 1778638487, 2560135757, 700859399, 3108515537, 2459576784, 248377069]$ を得た。\n",
    "\n",
    "元の文字列を求めよ\n"
   ]
  },
  {
   "cell_type": "code",
   "execution_count": null,
   "metadata": {},
   "outputs": [],
   "source": [
    "e = 911\n",
    "p = 63331\n",
    "q = 65353\n",
    "p*q"
   ]
  },
  {
   "cell_type": "code",
   "execution_count": null,
   "metadata": {},
   "outputs": [],
   "source": [
    "def decoder(encoded_text, D, N):\n",
    "    return pow(encoded_text, D, N)"
   ]
  },
  {
   "cell_type": "code",
   "execution_count": null,
   "metadata": {},
   "outputs": [],
   "source": [
    "N = p*q\n",
    "F = (p-1) * (q-1)\n",
    "E = e\n",
    "D = 0"
   ]
  },
  {
   "cell_type": "code",
   "execution_count": null,
   "metadata": {},
   "outputs": [],
   "source": [
    "for i in range(E):\n",
    "    if (( i * F + 1) % E) == 0:\n",
    "        D = (i * F + 1)/E\n",
    "        break"
   ]
  },
  {
   "cell_type": "code",
   "execution_count": null,
   "metadata": {},
   "outputs": [],
   "source": [
    "print(D)\n",
    "\n",
    "print((D*E)%F)\n",
    "\n",
    "D = int(D)\n",
    "print(D)\n",
    "\n",
    "print(f\"type(D) = {type(D)}\")"
   ]
  },
  {
   "cell_type": "code",
   "execution_count": null,
   "metadata": {},
   "outputs": [],
   "source": [
    "encoded_list = [\n",
    "1950507198\n",
    ",\n",
    "2327932771\n",
    ",\n",
    "3867273736\n",
    ",\n",
    "1778638487\n",
    ",\n",
    "2560135757\n",
    ",\n",
    "700859399\n",
    ",\n",
    "3108515537\n",
    ",\n",
    "2459576784\n",
    ",\n",
    "248377069\n",
    "]\n",
    "decoded_list = [0]*len(encoded_list)"
   ]
  },
  {
   "cell_type": "code",
   "execution_count": null,
   "metadata": {},
   "outputs": [],
   "source": [
    "for i in range(len(encoded_list)):\n",
    "    print(f\"i = {i}\")\n",
    "    decoded_list[i] = decoder(encoded_list[i] , D, N)\n",
    "print(decoded_list)"
   ]
  },
  {
   "cell_type": "markdown",
   "metadata": {},
   "source": [
    "## 問題2：モジュラー算法・中国剰余定理\n"
   ]
  },
  {
   "cell_type": "code",
   "execution_count": null,
   "metadata": {},
   "outputs": [],
   "source": []
  }
 ],
 "metadata": {
  "kernelspec": {
   "name": "python3",
   "display_name": "Python 3.8.5 64-bit",
   "metadata": {
    "interpreter": {
     "hash": "78bea88238b359cb8720bd7df922336c12f3831db9fec1bf346c95153cd214da"
    }
   }
  },
  "language_info": {
   "codemirror_mode": {
    "name": "ipython",
    "version": 3
   },
   "file_extension": ".py",
   "mimetype": "text/x-python",
   "name": "python",
   "nbconvert_exporter": "python",
   "pygments_lexer": "ipython3",
   "version": "3.8.5-final"
  }
 },
 "nbformat": 4,
 "nbformat_minor": 4
}